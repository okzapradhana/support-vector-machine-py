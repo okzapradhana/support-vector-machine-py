{
 "cells": [
  {
   "cell_type": "markdown",
   "metadata": {},
   "source": [
    "<h2>Preparing the Data</h2>"
   ]
  },
  {
   "cell_type": "code",
   "execution_count": 1,
   "metadata": {},
   "outputs": [],
   "source": [
    "dataset = [\n",
    "    [60, 165, 1], #kelas 1 = normal , kelas -1 = tidak normal\n",
    "    [70, 160, 1],\n",
    "    [80, 165, 1],\n",
    "    [100, 155, -1],\n",
    "    [40, 175, -1]\n",
    "]"
   ]
  },
  {
   "cell_type": "code",
   "execution_count": 2,
   "metadata": {},
   "outputs": [
    {
     "name": "stdout",
     "output_type": "stream",
     "text": [
      "[[60, 165, 1], [70, 160, 1], [80, 165, 1], [100, 155, -1], [40, 175, -1]]\n"
     ]
    }
   ],
   "source": [
    "print(dataset)"
   ]
  },
  {
   "cell_type": "markdown",
   "metadata": {},
   "source": [
    "<h2>Polinomial of Degree D Kernel</h2>"
   ]
  },
  {
   "cell_type": "code",
   "execution_count": 3,
   "metadata": {},
   "outputs": [],
   "source": [
    "#K(x,y) = (x.y + c)**d"
   ]
  },
  {
   "cell_type": "code",
   "execution_count": 28,
   "metadata": {},
   "outputs": [
    {
     "name": "stdout",
     "output_type": "stream",
     "text": [
      "Kernel \n",
      " [[950242276, 936421201, 1025664676, 997043776, 978188176], [936421201, 930311001, 1024064001, 1011303601, 948701601], [1025664676, 1024064001, 1130707876, 1127347776, 1028869776], [997043776, 1011303601, 1127347776, 1157768676, 968827876], [978188176, 948701601, 1028869776, 968827876, 1038515076]]\n"
     ]
    }
   ],
   "source": [
    "kernel = [[0] * len(dataset) for i in range(len(dataset))] #membuat zeros array sebesar 5x5\n",
    "c = 1\n",
    "d = 2\n",
    "result = 0\n",
    "\n",
    "def createKernel(datai, dataj):\n",
    "    temp = (datai[0] * dataj[0]) + (datai[1] * dataj[1])\n",
    "    return (temp + c)**d\n",
    "\n",
    "for i in range(len(dataset)):\n",
    "    for j in range(len(dataset)):\n",
    "        kernel[i][j] = createKernel(dataset[i], dataset[j])\n",
    "        \n",
    "print('Kernel \\n', kernel)"
   ]
  },
  {
   "cell_type": "markdown",
   "metadata": {},
   "source": [
    "<h2>Finding y[i][j]</h2>"
   ]
  },
  {
   "cell_type": "code",
   "execution_count": 27,
   "metadata": {},
   "outputs": [
    {
     "name": "stdout",
     "output_type": "stream",
     "text": [
      "Nilai y =  [[1, 1, 1, -1, -1], [1, 1, 1, -1, -1], [1, 1, 1, -1, -1], [-1, -1, -1, 1, 1], [-1, -1, -1, 1, 1]]\n"
     ]
    }
   ],
   "source": [
    "y = [[0] * len(dataset) for i in range(len(dataset))]\n",
    "\n",
    "for i in range(len(dataset)):\n",
    "    for j in range(len(dataset)):\n",
    "        y[i][j] = dataset[i][-1] * dataset[j][-1]\n",
    "        \n",
    "print('Nilai y = ', y)"
   ]
  },
  {
   "cell_type": "markdown",
   "metadata": {},
   "source": [
    "<h2>Finding D[i][j]</h2>"
   ]
  },
  {
   "cell_type": "code",
   "execution_count": 26,
   "metadata": {},
   "outputs": [
    {
     "name": "stdout",
     "output_type": "stream",
     "text": [
      "Nilai D \n",
      " [[950242280, 936421205, 1025664680, -997043780, -978188180], [936421205, 930311005, 1024064005, -1011303605, -948701605], [1025664680, 1024064005, 1130707880, -1127347780, -1028869780], [-997043780, -1011303605, -1127347780, 1157768680, 968827880], [-978188180, -948701605, -1028869780, 968827880, 1038515080]] \n",
      "\n",
      "Nilai max dari D = 1157768680\n"
     ]
    }
   ],
   "source": [
    "D = [[0] * len(dataset) for i in range(len(dataset))]\n",
    "lambdha = 2\n",
    "\n",
    "for i in range (len(dataset)):\n",
    "    for j in range (len(dataset)):\n",
    "        D[i][j] = y[i][j] * ((kernel[i][j]) + (lambdha**2))\n",
    "        \n",
    "maxD = max([max(i) for i in D]) #mencari Max dari nilai D dengan mencari max dari tiap row, lalu dari semua row dicari Maxnya\n",
    "\n",
    "print('Nilai D \\n', D , '\\n')\n",
    "print('Nilai max dari D =', maxD)"
   ]
  },
  {
   "cell_type": "markdown",
   "metadata": {},
   "source": [
    "<h2>Finding Alpha for each Looping</h2>"
   ]
  },
  {
   "cell_type": "code",
   "execution_count": 24,
   "metadata": {},
   "outputs": [
    {
     "name": "stdout",
     "output_type": "stream",
     "text": [
      "Gamma max threshold 1.7274607912178104e-09\n",
      "Gamma 8.637303956089052e-10 \n",
      "\n",
      "F_baru 8.711461990432669e-07\n"
     ]
    }
   ],
   "source": [
    "alpha = [0] * len(dataset) #membuat zeros array sebesar 1x5\n",
    "E = [0] * len(dataset)\n",
    "constantC = 2\n",
    "gammaMaxThreshold = 2/maxD\n",
    "gamma = gammaMaxThreshold/2\n",
    "\n",
    "print('Gamma max threshold', gammaMaxThreshold)\n",
    "print('Gamma', gamma ,'\\n')\n",
    "\n",
    "f_lama = 0\n",
    "threshold = 1e-10\n",
    "\n",
    "def avgAlpha(alpha):\n",
    "    return sum(alpha) / len(alpha)\n",
    "\n",
    "while(True):\n",
    "    for i in range (len(alpha)):\n",
    "        E[i] = sum([alpha[j] * D[i][j] for j in range(len(alpha)) ]) #langkah 2.1\n",
    "        newAlpha = min( max(gamma*(1 - E[i]), (-alpha[i])) , (constantC - alpha[i]) ) #langkah 2.2\n",
    "        alpha[i] = alpha[i] + newAlpha #langkah 2.3\n",
    "    f_baru = avgAlpha(alpha) #hasil dari Alpha adalah array 1D dengan size = 5, sehingga mencari rata-rata untuk dikurangi dengan f_lama\n",
    "    \n",
    "    delta = abs(f_baru - f_lama)\n",
    "    \n",
    "    if(delta < threshold):\n",
    "        break\n",
    "    else:\n",
    "        f_lama = f_baru\n",
    "\n",
    "print('F_baru' , f_baru)\n"
   ]
  },
  {
   "cell_type": "markdown",
   "metadata": {},
   "source": [
    "<h2>Determine the Class</h2>"
   ]
  },
  {
   "cell_type": "code",
   "execution_count": 29,
   "metadata": {},
   "outputs": [
    {
     "name": "stdout",
     "output_type": "stream",
     "text": [
      "Alpha [1.6453888741246572e-06, 3.321810895413044e-07, 2.3394571602883726e-07, 8.678475142719373e-07, 1.2763678012495983e-06]\n"
     ]
    }
   ],
   "source": [
    "print('Alpha' , alpha)\n",
    "def decisionFunc(beratBadan, tinggiBadan):\n",
    "    res = 0\n",
    "    for i in range (len(dataset)):\n",
    "        temp = alpha[i] * dataset[i][-1] * createKernel(dataset[i], [beratBadan, tinggiBadan]) #[80, 165] merupakan data baru\n",
    "        res+= temp\n",
    "    getClass(res)\n",
    "\n",
    "def getClass(result):\n",
    "    print('Hasil f(x): ' , result)\n",
    "    if(result > 0):\n",
    "        print(\"Kelas +1\")\n",
    "    else:\n",
    "        print(\"Kelas -1\")    "
   ]
  },
  {
   "cell_type": "markdown",
   "metadata": {},
   "source": [
    "<h2>Main Method</h2>"
   ]
  },
  {
   "cell_type": "code",
   "execution_count": 34,
   "metadata": {},
   "outputs": [
    {
     "name": "stdout",
     "output_type": "stream",
     "text": [
      "==== Support Vector Machine ====\n",
      "Masukkan berat badan: 60\n",
      "Masukkan tinggi badan: 165\n",
      "Hasil f(x):  0.7194864719724592\n",
      "Kelas +1\n"
     ]
    }
   ],
   "source": [
    "if __name__ == '__main__':\n",
    "    print('==== Support Vector Machine ====')\n",
    "    beratBadan = float(input(\"Masukkan berat badan: \"))\n",
    "    tinggiBadan = float(input(\"Masukkan tinggi badan: \"))\n",
    "    decisionFunc(beratBadan, tinggiBadan)"
   ]
  },
  {
   "cell_type": "code",
   "execution_count": null,
   "metadata": {},
   "outputs": [],
   "source": []
  }
 ],
 "metadata": {
  "kernelspec": {
   "display_name": "Python 3",
   "language": "python",
   "name": "python3"
  },
  "language_info": {
   "codemirror_mode": {
    "name": "ipython",
    "version": 3
   },
   "file_extension": ".py",
   "mimetype": "text/x-python",
   "name": "python",
   "nbconvert_exporter": "python",
   "pygments_lexer": "ipython3",
   "version": "3.7.0"
  }
 },
 "nbformat": 4,
 "nbformat_minor": 2
}
